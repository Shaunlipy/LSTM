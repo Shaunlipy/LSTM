{
  "nbformat": 4,
  "nbformat_minor": 0,
  "metadata": {
    "colab": {
      "name": "LSTM.ipynb",
      "version": "0.3.2",
      "views": {},
      "default_view": {},
      "provenance": []
    },
    "kernelspec": {
      "name": "python3",
      "display_name": "Python 3"
    },
    "accelerator": "GPU"
  },
  "cells": [
    {
      "metadata": {
        "id": "SwbJ1XWGc1HV",
        "colab_type": "code",
        "colab": {
          "autoexec": {
            "startup": false,
            "wait_interval": 0
          },
          "output_extras": [
            {
              "item_id": 5
            }
          ],
          "base_uri": "https://localhost:8080/",
          "height": 156
        },
        "outputId": "72d325a2-222b-4ce2-ad8c-8197a6dd5a2f",
        "executionInfo": {
          "status": "ok",
          "timestamp": 1522525791216,
          "user_tz": 240,
          "elapsed": 30892,
          "user": {
            "displayName": "Shaun Li",
            "photoUrl": "https://lh3.googleusercontent.com/a/default-user=s128",
            "userId": "102822933662338721611"
          }
        }
      },
      "cell_type": "code",
      "source": [
        "!apt-get install -y -qq software-properties-common python-software-properties module-init-tools\n",
        "!add-apt-repository -y ppa:alessandro-strada/ppa 2>&1 > /dev/null\n",
        "!apt-get update -qq 2>&1 > /dev/null\n",
        "!apt-get -y install -qq google-drive-ocamlfuse fuse\n",
        "from google.colab import auth\n",
        "auth.authenticate_user()\n",
        "from oauth2client.client import GoogleCredentials\n",
        "creds = GoogleCredentials.get_application_default()\n",
        "import getpass\n",
        "!google-drive-ocamlfuse -headless -id={creds.client_id} -secret={creds.client_secret} < /dev/null 2>&1 | grep URL\n",
        "vcode = getpass.getpass()\n",
        "!echo {vcode} | google-drive-ocamlfuse -headless -id={creds.client_id} -secret={creds.client_secret}"
      ],
      "execution_count": 15,
      "outputs": [
        {
          "output_type": "stream",
          "text": [
            "gpg: keybox '/tmp/tmp7qma7ayj/pubring.gpg' created\n",
            "gpg: /tmp/tmp7qma7ayj/trustdb.gpg: trustdb created\n",
            "gpg: key AD5F235DF639B041: public key \"Launchpad PPA for Alessandro Strada\" imported\n",
            "gpg: Total number processed: 1\n",
            "gpg:               imported: 1\n",
            "Warning: apt-key output should not be parsed (stdout is not a terminal)\n",
            "··········\n"
          ],
          "name": "stdout"
        }
      ]
    },
    {
      "metadata": {
        "id": "OIgM3ZlJdT37",
        "colab_type": "code",
        "colab": {
          "autoexec": {
            "startup": false,
            "wait_interval": 0
          }
        }
      },
      "cell_type": "code",
      "source": [
        "!mkdir -p drive\n",
        "!google-drive-ocamlfuse drive"
      ],
      "execution_count": 0,
      "outputs": []
    },
    {
      "metadata": {
        "id": "sgYvLwuYdkL8",
        "colab_type": "code",
        "colab": {
          "autoexec": {
            "startup": false,
            "wait_interval": 0
          }
        }
      },
      "cell_type": "code",
      "source": [
        "import os\n",
        "os.chdir(\"drive/Colab Notebooks/LSTM/\")"
      ],
      "execution_count": 0,
      "outputs": []
    },
    {
      "metadata": {
        "id": "gRUgYkRDdnyV",
        "colab_type": "code",
        "colab": {
          "autoexec": {
            "startup": false,
            "wait_interval": 0
          },
          "output_extras": [
            {
              "item_id": 1
            }
          ],
          "base_uri": "https://localhost:8080/",
          "height": 34
        },
        "outputId": "de49eb82-2eaa-4daa-88b2-efc2d47bf4d0",
        "executionInfo": {
          "status": "ok",
          "timestamp": 1522525806872,
          "user_tz": 240,
          "elapsed": 1708,
          "user": {
            "displayName": "Shaun Li",
            "photoUrl": "https://lh3.googleusercontent.com/a/default-user=s128",
            "userId": "102822933662338721611"
          }
        }
      },
      "cell_type": "code",
      "source": [
        "!ls"
      ],
      "execution_count": 19,
      "outputs": [
        {
          "output_type": "stream",
          "text": [
            "drive  LSTM.ipynb  macbeth.txt\r\n"
          ],
          "name": "stdout"
        }
      ]
    },
    {
      "metadata": {
        "id": "N5UMMa0zdpuQ",
        "colab_type": "code",
        "colab": {
          "autoexec": {
            "startup": false,
            "wait_interval": 0
          }
        }
      },
      "cell_type": "code",
      "source": [
        "!pip install -q keras"
      ],
      "execution_count": 0,
      "outputs": []
    },
    {
      "metadata": {
        "id": "6KmojNtBdsoH",
        "colab_type": "code",
        "colab": {
          "autoexec": {
            "startup": false,
            "wait_interval": 0
          }
        }
      },
      "cell_type": "code",
      "source": [
        "import numpy \n",
        "from keras.models import Sequential\n",
        "from keras.layers import Dense\n",
        "from keras.layers import Dropout\n",
        "from keras.layers import LSTM\n",
        "from keras.utils import np_utils"
      ],
      "execution_count": 0,
      "outputs": []
    },
    {
      "metadata": {
        "id": "95_2a6i8d-Im",
        "colab_type": "code",
        "colab": {
          "autoexec": {
            "startup": false,
            "wait_interval": 0
          }
        }
      },
      "cell_type": "code",
      "source": [
        "filename = 'macbeth.txt'\n",
        "text = (open(filename).read()).lower()\n",
        "\n",
        "unique_chars = sorted(list(set(text)))\n",
        "\n",
        "char_to_int ={}\n",
        "\n",
        "int_to_char = {}\n",
        "\n",
        "for i, c in enumerate(unique_chars):\n",
        "  char_to_int.update({c: i})\n",
        "  int_to_char.update({i: c})"
      ],
      "execution_count": 0,
      "outputs": []
    },
    {
      "metadata": {
        "id": "eDej83BZebMy",
        "colab_type": "code",
        "colab": {
          "autoexec": {
            "startup": false,
            "wait_interval": 0
          },
          "output_extras": [
            {
              "item_id": 1
            }
          ],
          "base_uri": "https://localhost:8080/",
          "height": 748
        },
        "outputId": "2c1370a8-5fe1-457a-90f5-8da069e638fe",
        "executionInfo": {
          "status": "ok",
          "timestamp": 1522525813035,
          "user_tz": 240,
          "elapsed": 287,
          "user": {
            "displayName": "Shaun Li",
            "photoUrl": "https://lh3.googleusercontent.com/a/default-user=s128",
            "userId": "102822933662338721611"
          }
        }
      },
      "cell_type": "code",
      "source": [
        "char_to_int"
      ],
      "execution_count": 23,
      "outputs": [
        {
          "output_type": "execute_result",
          "data": {
            "text/plain": [
              "{'\\n': 0,\n",
              " ' ': 1,\n",
              " '!': 2,\n",
              " '&': 3,\n",
              " \"'\": 4,\n",
              " '(': 5,\n",
              " ')': 6,\n",
              " ',': 7,\n",
              " '-': 8,\n",
              " '.': 9,\n",
              " '1': 10,\n",
              " '2': 11,\n",
              " '3': 12,\n",
              " ':': 13,\n",
              " ';': 14,\n",
              " '?': 15,\n",
              " '[': 16,\n",
              " ']': 17,\n",
              " 'a': 18,\n",
              " 'b': 19,\n",
              " 'c': 20,\n",
              " 'd': 21,\n",
              " 'e': 22,\n",
              " 'f': 23,\n",
              " 'g': 24,\n",
              " 'h': 25,\n",
              " 'i': 26,\n",
              " 'k': 27,\n",
              " 'l': 28,\n",
              " 'm': 29,\n",
              " 'n': 30,\n",
              " 'o': 31,\n",
              " 'p': 32,\n",
              " 'q': 33,\n",
              " 'r': 34,\n",
              " 's': 35,\n",
              " 't': 36,\n",
              " 'u': 37,\n",
              " 'v': 38,\n",
              " 'w': 39,\n",
              " 'x': 40,\n",
              " 'y': 41,\n",
              " 'z': 42}"
            ]
          },
          "metadata": {
            "tags": []
          },
          "execution_count": 23
        }
      ]
    },
    {
      "metadata": {
        "id": "CnjDGOG2ecqs",
        "colab_type": "code",
        "colab": {
          "autoexec": {
            "startup": false,
            "wait_interval": 0
          }
        }
      },
      "cell_type": "code",
      "source": [
        "X = []\n",
        "Y = []\n",
        "\n",
        "for i in range(0, len(text) - 50, 1):\n",
        "  sequence = text[i: i + 50]\n",
        "  label = text[i + 50]\n",
        "  X.append([char_to_int[char] for char in sequence])\n",
        "  Y.append(char_to_int[label])"
      ],
      "execution_count": 0,
      "outputs": []
    },
    {
      "metadata": {
        "id": "r-BfJIv2fIDS",
        "colab_type": "code",
        "colab": {
          "autoexec": {
            "startup": false,
            "wait_interval": 0
          },
          "output_extras": [
            {
              "item_id": 1
            }
          ],
          "base_uri": "https://localhost:8080/",
          "height": 867
        },
        "outputId": "c43a24a2-57e2-4b4e-85b7-43d5ec2a25c1",
        "executionInfo": {
          "status": "ok",
          "timestamp": 1522525814506,
          "user_tz": 240,
          "elapsed": 271,
          "user": {
            "displayName": "Shaun Li",
            "photoUrl": "https://lh3.googleusercontent.com/a/default-user=s128",
            "userId": "102822933662338721611"
          }
        }
      },
      "cell_type": "code",
      "source": [
        "X[0]"
      ],
      "execution_count": 25,
      "outputs": [
        {
          "output_type": "execute_result",
          "data": {
            "text/plain": [
              "[36,\n",
              " 25,\n",
              " 22,\n",
              " 1,\n",
              " 36,\n",
              " 34,\n",
              " 18,\n",
              " 24,\n",
              " 22,\n",
              " 21,\n",
              " 26,\n",
              " 22,\n",
              " 1,\n",
              " 31,\n",
              " 23,\n",
              " 1,\n",
              " 29,\n",
              " 18,\n",
              " 20,\n",
              " 19,\n",
              " 22,\n",
              " 36,\n",
              " 25,\n",
              " 0,\n",
              " 0,\n",
              " 18,\n",
              " 20,\n",
              " 36,\n",
              " 37,\n",
              " 35,\n",
              " 1,\n",
              " 32,\n",
              " 34,\n",
              " 26,\n",
              " 29,\n",
              " 37,\n",
              " 35,\n",
              " 9,\n",
              " 1,\n",
              " 35,\n",
              " 20,\n",
              " 31,\n",
              " 22,\n",
              " 30,\n",
              " 18,\n",
              " 1,\n",
              " 32,\n",
              " 34,\n",
              " 26,\n",
              " 29]"
            ]
          },
          "metadata": {
            "tags": []
          },
          "execution_count": 25
        }
      ]
    },
    {
      "metadata": {
        "id": "pkWk8glGfLA5",
        "colab_type": "code",
        "colab": {
          "autoexec": {
            "startup": false,
            "wait_interval": 0
          }
        }
      },
      "cell_type": "code",
      "source": [
        "X_modified = numpy.reshape(X, (len(X), 50, 1))\n",
        "X_modified = X_modified / float(len(unique_chars))\n",
        "Y_modified = np_utils.to_categorical(Y)"
      ],
      "execution_count": 0,
      "outputs": []
    },
    {
      "metadata": {
        "id": "FXNoSW_Jfh8R",
        "colab_type": "code",
        "colab": {
          "autoexec": {
            "startup": false,
            "wait_interval": 0
          }
        }
      },
      "cell_type": "code",
      "source": [
        "model = Sequential()\n",
        "model.add(LSTM(300, input_shape = (X_modified.shape[1], X_modified.shape[2]), return_sequences = True))\n",
        "model.add(Dropout(0.2))\n",
        "model.add(LSTM(300))\n",
        "model.add(Dropout(0.2))\n",
        "model.add(Dense(Y_modified.shape[1], activation = 'softmax'))\n",
        "model.compile(loss='categorical_crossentropy', optimizer='adam')"
      ],
      "execution_count": 0,
      "outputs": []
    },
    {
      "metadata": {
        "id": "dQSq2I4IgLVe",
        "colab_type": "code",
        "colab": {
          "autoexec": {
            "startup": false,
            "wait_interval": 0
          },
          "output_extras": [
            {
              "item_id": 3170
            },
            {
              "item_id": 3171
            }
          ],
          "base_uri": "https://localhost:8080/",
          "height": 88
        },
        "outputId": "c8769520-2564-4c1a-f23f-6dfe7ee226f4",
        "executionInfo": {
          "status": "ok",
          "timestamp": 1522526617798,
          "user_tz": 240,
          "elapsed": 801378,
          "user": {
            "displayName": "Shaun Li",
            "photoUrl": "https://lh3.googleusercontent.com/a/default-user=s128",
            "userId": "102822933662338721611"
          }
        }
      },
      "cell_type": "code",
      "source": [
        "model.fit(X_modified, Y_modified, epochs=1, batch_size=30)"
      ],
      "execution_count": 28,
      "outputs": [
        {
          "output_type": "stream",
          "text": [
            "Epoch 1/1\n",
            "100270/100270 [==============================] - 800s 8ms/step - loss: 2.7499\n"
          ],
          "name": "stdout"
        },
        {
          "output_type": "execute_result",
          "data": {
            "text/plain": [
              "<keras.callbacks.History at 0x7f370a180ef0>"
            ]
          },
          "metadata": {
            "tags": []
          },
          "execution_count": 28
        }
      ]
    },
    {
      "metadata": {
        "id": "Kjc0nl2Gg4a7",
        "colab_type": "code",
        "colab": {
          "autoexec": {
            "startup": false,
            "wait_interval": 0
          },
          "output_extras": [
            {
              "item_id": 1
            }
          ],
          "base_uri": "https://localhost:8080/",
          "height": 34
        },
        "outputId": "dbd6cadd-c745-4b99-bb87-a26e8d6e6a79",
        "executionInfo": {
          "status": "ok",
          "timestamp": 1522526646050,
          "user_tz": 240,
          "elapsed": 504,
          "user": {
            "displayName": "Shaun Li",
            "photoUrl": "https://lh3.googleusercontent.com/a/default-user=s128",
            "userId": "102822933662338721611"
          }
        }
      },
      "cell_type": "code",
      "source": [
        "start_index = numpy.random.randint(0, len(X) - 1)\n",
        "new_string = X[start_index]\n",
        "for i in range(50):\n",
        "  x = numpy.reshape(new_string, (1, len(new_string), 1))\n",
        "  x = x / float(len(unique_chars))\n",
        "  \n",
        "pred_index = numpy.argmax(model.predict(x, verbose = 0))\n",
        "char_out = int_to_char[pred_index]\n",
        "seq_in = [int_to_char[value] for value in new_string]\n",
        "print (char_out)"
      ],
      "execution_count": 29,
      "outputs": [
        {
          "output_type": "stream",
          "text": [
            "e\n"
          ],
          "name": "stdout"
        }
      ]
    },
    {
      "metadata": {
        "id": "75_xMfeIhVOk",
        "colab_type": "code",
        "colab": {
          "autoexec": {
            "startup": false,
            "wait_interval": 0
          }
        }
      },
      "cell_type": "code",
      "source": [
        "new_string.append(pred_index)\n",
        "new_string = new_string[1:len(new_string)]"
      ],
      "execution_count": 0,
      "outputs": []
    },
    {
      "metadata": {
        "id": "049Km78pqeU7",
        "colab_type": "code",
        "colab": {
          "autoexec": {
            "startup": false,
            "wait_interval": 0
          },
          "output_extras": [
            {
              "item_id": 1
            }
          ],
          "base_uri": "https://localhost:8080/",
          "height": 34
        },
        "outputId": "ff9babe8-70a1-4a5e-9a48-bd8c3a4c4127",
        "executionInfo": {
          "status": "ok",
          "timestamp": 1522526713282,
          "user_tz": 240,
          "elapsed": 242,
          "user": {
            "displayName": "Shaun Li",
            "photoUrl": "https://lh3.googleusercontent.com/a/default-user=s128",
            "userId": "102822933662338721611"
          }
        }
      },
      "cell_type": "code",
      "source": [
        "pred_index"
      ],
      "execution_count": 33,
      "outputs": [
        {
          "output_type": "execute_result",
          "data": {
            "text/plain": [
              "22"
            ]
          },
          "metadata": {
            "tags": []
          },
          "execution_count": 33
        }
      ]
    },
    {
      "metadata": {
        "id": "KMD_nWR-hZvZ",
        "colab_type": "code",
        "colab": {
          "autoexec": {
            "startup": false,
            "wait_interval": 0
          },
          "output_extras": [
            {
              "item_id": 1
            }
          ],
          "base_uri": "https://localhost:8080/",
          "height": 867
        },
        "outputId": "04fab583-b3ef-49f5-d31c-c2cc85909ee8",
        "executionInfo": {
          "status": "ok",
          "timestamp": 1522526697108,
          "user_tz": 240,
          "elapsed": 245,
          "user": {
            "displayName": "Shaun Li",
            "photoUrl": "https://lh3.googleusercontent.com/a/default-user=s128",
            "userId": "102822933662338721611"
          }
        }
      },
      "cell_type": "code",
      "source": [
        "new_string"
      ],
      "execution_count": 32,
      "outputs": [
        {
          "output_type": "execute_result",
          "data": {
            "text/plain": [
              "[1,\n",
              " 35,\n",
              " 36,\n",
              " 34,\n",
              " 31,\n",
              " 18,\n",
              " 27,\n",
              " 22,\n",
              " 35,\n",
              " 1,\n",
              " 38,\n",
              " 32,\n",
              " 31,\n",
              " 30,\n",
              " 1,\n",
              " 36,\n",
              " 25,\n",
              " 22,\n",
              " 1,\n",
              " 23,\n",
              " 31,\n",
              " 22,\n",
              " 13,\n",
              " 0,\n",
              " 22,\n",
              " 40,\n",
              " 20,\n",
              " 22,\n",
              " 32,\n",
              " 36,\n",
              " 1,\n",
              " 36,\n",
              " 25,\n",
              " 22,\n",
              " 41,\n",
              " 1,\n",
              " 29,\n",
              " 22,\n",
              " 18,\n",
              " 30,\n",
              " 36,\n",
              " 1,\n",
              " 36,\n",
              " 31,\n",
              " 1,\n",
              " 19,\n",
              " 18,\n",
              " 36,\n",
              " 25,\n",
              " 22]"
            ]
          },
          "metadata": {
            "tags": []
          },
          "execution_count": 32
        }
      ]
    },
    {
      "metadata": {
        "id": "o9-LmZoEqVci",
        "colab_type": "code",
        "colab": {
          "autoexec": {
            "startup": false,
            "wait_interval": 0
          }
        }
      },
      "cell_type": "code",
      "source": [
        ""
      ],
      "execution_count": 0,
      "outputs": []
    }
  ]
}